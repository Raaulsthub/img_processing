{
 "cells": [
  {
   "attachments": {},
   "cell_type": "markdown",
   "metadata": {},
   "source": [
    "# HANDLING FILES AND IMAGES"
   ]
  },
  {
   "attachments": {},
   "cell_type": "markdown",
   "metadata": {},
   "source": [
    "In computer vision projects, many times the inputs (images and files) are passed as system arguments to the program to be executed."
   ]
  },
  {
   "cell_type": "code",
   "execution_count": 1,
   "metadata": {},
   "outputs": [
    {
     "name": "stdout",
     "output_type": "stream",
     "text": [
      "The path to any application running can be fouund by argv[0]:  /home/raul/.local/lib/python3.10/site-packages/ipykernel_launcher.py\n"
     ]
    }
   ],
   "source": [
    "import sys\n",
    "print('The path to any application running can be fouund by argv[0]: ', sys.argv[0])"
   ]
  },
  {
   "cell_type": "code",
   "execution_count": 3,
   "metadata": {},
   "outputs": [
    {
     "name": "stdout",
     "output_type": "stream",
     "text": [
      "The number of arguments to this script is: 3\n",
      "The arguments passed to this script are: ['/home/raul/.local/lib/python3.10/site-packages/ipykernel_launcher.py', '-f', '/home/raul/.local/share/jupyter/runtime/kernel-245b8224-9660-43c5-9cba-5cc879f1ab79.json'] \n"
     ]
    }
   ],
   "source": [
    "print(f'The number of arguments to this script is: {len(sys.argv)}')\n",
    "print(f'The arguments passed to this script are: {str(sys.argv)} ')"
   ]
  },
  {
   "attachments": {},
   "cell_type": "markdown",
   "metadata": {},
   "source": [
    "The correct way to parse arguments is using Argparse, the code for it is in this directory: \"argp.py\""
   ]
  },
  {
   "attachments": {},
   "cell_type": "markdown",
   "metadata": {},
   "source": [
    "## Reading and writing images"
   ]
  },
  {
   "attachments": {},
   "cell_type": "markdown",
   "metadata": {},
   "source": [
    "The code is in this directory: \"r_w_images.py\""
   ]
  },
  {
   "attachments": {},
   "cell_type": "markdown",
   "metadata": {},
   "source": [
    "## Reading from camera and videos"
   ]
  },
  {
   "attachments": {},
   "cell_type": "markdown",
   "metadata": {},
   "source": [
    "Code on read_camera.py, read_video_file.py, read_from_ip.py"
   ]
  },
  {
   "attachments": {},
   "cell_type": "markdown",
   "metadata": {},
   "source": [
    "## Writing videos"
   ]
  },
  {
   "attachments": {},
   "cell_type": "markdown",
   "metadata": {},
   "source": [
    "A video code is what compresses and decompresses a digital video. A codec is used to both compress and decompress. The compressed video usually follows a video compression specification or \"video coding format\". OpenCV provides FOURCC witch is a 4-byte code used to specify the video codec. FOURCC stands for four character code. It should be taken into account that the supported codecs are platform-dependent, this means that if we want to work with a certain codec, it needs to be installed in the machine. Typical coders/decoders are DIVX, XVID, X264 and MJPG. Additionaly, a video file format is a type of file format that's used to store digital video data. Typical video file formats are AVI (.avi), MP4 (.mp4), QuickTime (.mov) and Windows Media Video (.wmv). The combinations between FOURCC's and video formats is not direct, so some tweaking between formats might be needed.\n",
    "\n",
    "\n",
    "Code on writing_video.py"
   ]
  }
 ],
 "metadata": {
  "kernelspec": {
   "display_name": "Python 3",
   "language": "python",
   "name": "python3"
  },
  "language_info": {
   "codemirror_mode": {
    "name": "ipython",
    "version": 3
   },
   "file_extension": ".py",
   "mimetype": "text/x-python",
   "name": "python",
   "nbconvert_exporter": "python",
   "pygments_lexer": "ipython3",
   "version": "3.10.6"
  },
  "orig_nbformat": 4,
  "vscode": {
   "interpreter": {
    "hash": "916dbcbb3f70747c44a77c7bcd40155683ae19c65e1c03b4aa3499c5328201f1"
   }
  }
 },
 "nbformat": 4,
 "nbformat_minor": 2
}
