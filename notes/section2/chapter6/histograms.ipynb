{
 "cells": [
  {
   "attachments": {},
   "cell_type": "markdown",
   "metadata": {},
   "source": [
    "# Image Histograms\n",
    "An image histogram is a type of histogram that reflects the tonal distribution of the image, plotting the number of pixels for each tonal value. The number of pixels for each value is also called frequency. For example, in a gray scale histogram with intensity of black ranging from zero to 255, there will be 256 entries. h(i) = numberOfPixelsWithIntensityI(iE[0, 255])\n"
   ]
  },
  {
   "attachments": {},
   "cell_type": "markdown",
   "metadata": {},
   "source": [
    "## Common terminologies\n",
    "### Bins\n",
    "The \"y\" axis values, the tone's frequency in the last exaple, common number of beans are 8, 16, 32, 64, 128, 256. OpenCV uses histsize to refer to bins\n",
    "### Range\n",
    "The tonal values, [0, 255], the \"x\" axis"
   ]
  }
 ],
 "metadata": {
  "language_info": {
   "name": "python"
  },
  "orig_nbformat": 4
 },
 "nbformat": 4,
 "nbformat_minor": 2
}
